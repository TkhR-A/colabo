{
  "nbformat": 4,
  "nbformat_minor": 0,
  "metadata": {
    "colab": {
      "name": "Untitled3.ipynb",
      "version": "0.3.2",
      "provenance": [],
      "include_colab_link": true
    },
    "kernelspec": {
      "name": "python3",
      "display_name": "Python 3"
    }
  },
  "cells": [
    {
      "cell_type": "markdown",
      "metadata": {
        "id": "view-in-github",
        "colab_type": "text"
      },
      "source": [
        "<a href=\"https://colab.research.google.com/github/TkhR-A/colabo/blob/master/sqlite3.ipynb\" target=\"_parent\"><img src=\"https://colab.research.google.com/assets/colab-badge.svg\" alt=\"Open In Colab\"/></a>"
      ]
    },
    {
      "cell_type": "code",
      "metadata": {
        "id": "Jlk0vtrb8ru4",
        "colab_type": "code",
        "colab": {
          "base_uri": "https://localhost:8080/",
          "height": 173
        },
        "outputId": "cf8f981c-6ecf-40af-995b-0063e8e5aacc"
      },
      "source": [
        " import sqlite3\n",
        "\n",
        " # データベースに接続 --- (*1)\n",
        " conn = sqlite3.connect(\"ejdict.sqlite3\")\n",
        " c = conn.cursor()\n",
        "\n",
        " # SQLでデータを10件取り出す --- (*2)\n",
        " sqlq = 'SELECT * FROM items LIMIT 10'\n",
        " sql = 'SELECT * FROM items WHERE word LIKE \"apple%\n",
        "  \" '\n",
        " rows = c.execute(sql)\n",
        " # 取り出した10件を一つずつ表示 --- (*3)\n",
        " for n in rows:\n",
        "     print(n)"
      ],
      "execution_count": 4,
      "outputs": [
        {
          "output_type": "stream",
          "text": [
            "(1933, 'apple', '『リンゴ』;リンゴの木', 1)\n",
            "(1934, 'apple butter', 'リンゴジャム(リンゴに香料・砂糖を加えて煮つめたジャム)', 0)\n",
            "(1935, 'apple green', '澄んだ淡い緑色', 0)\n",
            "(1936, 'apple-pie-order', '《話》整然とした状態,秩序整然', 0)\n",
            "(1937, 'apple-polish', \"(贈物などで)〈人〉‘の'きげんをとる,‘に'取り入る / 人のきげんをとる,へつらう\", 0)\n",
            "(1938, 'applecart', 'リンゴ売りの手押し車', 0)\n",
            "(1939, 'applejack', '《米》リンゴブランデー(発酵させたリンゴ酒を蒸溜して作る)', 0)\n",
            "(1940, 'applesauce', 'リンゴソース(リンゴをつぶして甘く煮たもの)', 0)\n"
          ],
          "name": "stdout"
        }
      ]
    },
    {
      "cell_type": "markdown",
      "metadata": {
        "id": "N09HyLWkBjRz",
        "colab_type": "text"
      },
      "source": [
        "    \n",
        "        "
      ]
    },
    {
      "cell_type": "code",
      "metadata": {
        "id": "vzmnl7pOBiBW",
        "colab_type": "code",
        "colab": {}
      },
      "source": [
        "import sqlite3\n",
        "\n",
        "# TEST.dbを作成する\n",
        "# すでに存在していれば、それにアスセスする。\n",
        "dbname = 'TEST.db'\n",
        "conn = sqlite3.connect(dbname)\n",
        "\n",
        "# データベースへのコネクションを閉じる。(必須)\n",
        "conn.close()\n",
        "\n"
      ],
      "execution_count": 0,
      "outputs": []
    },
    {
      "cell_type": "code",
      "metadata": {
        "id": "KNzhKTA1C6iz",
        "colab_type": "code",
        "colab": {}
      },
      "source": [
        "import sqlite3\n",
        "\n",
        "dbname = 'TEST.db'\n",
        "conn = sqlite3.connect(dbname)\n",
        "# sqliteを操作するカーソルオブジェクトを作成\n",
        "cur = conn.cursor()\n",
        "\n",
        "# personsというtableを作成してみる\n",
        "# 大文字部はSQL文。小文字でも問題ない。\n",
        "cur.execute(\n",
        "    'CREATE TABLE persons(id INTEGER PRIMARY KEY AUTOINCREMENT , name STRING)'\n",
        ")\n",
        "\n",
        "# データベースへコミット。これで変更が反映される。\n",
        "conn.commit()\n",
        "conn.close()"
      ],
      "execution_count": 0,
      "outputs": []
    },
    {
      "cell_type": "code",
      "metadata": {
        "id": "DybmYaEwEAfC",
        "colab_type": "code",
        "colab": {}
      },
      "source": [
        "import sqlite3\n",
        "\n",
        "dbname = 'TEST.db'\n",
        "conn = sqlite3.connect(dbname)\n",
        "cur = conn.cursor()\n",
        "\n",
        "# \"name\"に\"Taro\"を入れる\n",
        "cur.execute('INSERT INTO persons(name) values(\"Taro\")')\n",
        "# 同様に\n",
        "cur.execute('INSERT INTO persons(name) values(\"Hanako\")')\n",
        "cur.execute('INSERT INTO persons(name) values(\"Hiroki\")')\n",
        "\n",
        "conn.commit()\n",
        "\n",
        "cur.close()\n",
        "conn.close()"
      ],
      "execution_count": 0,
      "outputs": []
    },
    {
      "cell_type": "code",
      "metadata": {
        "id": "SRb8O2QjES21",
        "colab_type": "code",
        "colab": {
          "base_uri": "https://localhost:8080/",
          "height": 54
        },
        "outputId": "363099de-85a0-4249-c62a-c0fed4f55222"
      },
      "source": [
        "import sqlite3\n",
        "\n",
        "dbname = 'TEST.db'\n",
        "conn = sqlite3.connect(dbname)\n",
        "cur = conn.cursor()\n",
        "\n",
        "# terminalで実行したSQL文と同じようにexecute()に書く\n",
        "cur.execute('SELECT * FROM persons')\n",
        "\n",
        "# 中身を全て取得するfetchall()を使って、printする。\n",
        "print(cur.fetchall())\n",
        "\n",
        "cur.close()\n",
        "conn.close()"
      ],
      "execution_count": 16,
      "outputs": [
        {
          "output_type": "stream",
          "text": [
            "[(1, 'Taro'), (2, 'Hanako'), (3, 'Hiroki'), (4, 'Taro'), (5, 'Hanako'), (6, 'Hiroki')]\n"
          ],
          "name": "stdout"
        }
      ]
    }
  ]
}